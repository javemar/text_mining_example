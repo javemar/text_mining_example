{
 "cells": [
  {
   "cell_type": "markdown",
   "metadata": {},
   "source": [
    "# Text Mining Example : Sentiment Classification"
   ]
  },
  {
   "cell_type": "code",
   "execution_count": 44,
   "metadata": {},
   "outputs": [],
   "source": [
    "import pandas as pd\n",
    "import os\n",
    "import  re\n",
    "import nltk\n",
    "from nltk.stem import WordNetLemmatizer\n",
    "from nltk.stem import  PorterStemmer\n",
    "import numpy as  np"
   ]
  },
  {
   "cell_type": "markdown",
   "metadata": {},
   "source": [
    "## Loading data\n"
   ]
  },
  {
   "cell_type": "code",
   "execution_count": 5,
   "metadata": {},
   "outputs": [],
   "source": [
    "main_path = os.getcwd()\n",
    "\n",
    "test_path_positive  = os.path.join(main_path,r\"aclImdb/test/pos\" ) \n",
    "test_path_negative  = os.path.join(main_path,r\"aclImdb/test/neg\" ) \n",
    "\n",
    "train_path_positive  = os.path.join(main_path,r\"aclImdb/train/pos\" ) \n",
    "train_path_negative  = os.path.join(main_path,r\"aclImdb/train/neg\" ) "
   ]
  },
  {
   "cell_type": "code",
   "execution_count": 6,
   "metadata": {},
   "outputs": [],
   "source": [
    "#test\n",
    "temp = os.listdir(test_path_positive)\n",
    "temp =  [ os.path.join(test_path_positive,  t) for t in temp]\n",
    "files_test =  temp\n",
    "\n",
    "temp = os.listdir(test_path_negative)\n",
    "temp =  [ os.path.join(test_path_negative,  t) for t in temp]\n",
    "\n",
    "files_test.extend(temp)\n",
    "\n",
    "dict_test = {\"id\":[], \"rating\":[], \"review\":[]}\n",
    "\n",
    "#train\n",
    "\n",
    "temp = os.listdir(train_path_positive)\n",
    "temp =  [ os.path.join(train_path_positive,  t) for t in temp]\n",
    "files_train =  temp\n",
    "\n",
    "temp = os.listdir(train_path_negative)\n",
    "temp =  [ os.path.join(train_path_negative,  t) for t in temp]\n",
    "\n",
    "files_train.extend(temp)\n",
    "\n",
    "dict_train = {\"id\":[], \"rating\":[], \"review\":[]}\n"
   ]
  },
  {
   "cell_type": "code",
   "execution_count": 7,
   "metadata": {},
   "outputs": [],
   "source": [
    "for j in files_test:\n",
    "    #print j\n",
    "    with open(j, 'r') as f:\n",
    "        temp_string = f.read()\n",
    "        file_name = re.sub(r\".+/\", \"\", f.name)\n",
    "    dict_test[\"id\"].append(file_name.split(\"_\")[0])\n",
    "    dict_test[\"rating\"].append(file_name.split(\"_\")[1].split(\".\")[0])\n",
    "    dict_test[\"review\"].append(temp_string.decode(\"latin1\",errors=\"ignore\"))\n",
    "    \n",
    "    "
   ]
  },
  {
   "cell_type": "code",
   "execution_count": 8,
   "metadata": {},
   "outputs": [],
   "source": [
    "for j in files_train:\n",
    "    #print j\n",
    "    with open(j, 'r') as f:\n",
    "        temp_string = f.read()\n",
    "        file_name = re.sub(r\".+/\", \"\", f.name)\n",
    "    dict_train[\"id\"].append(file_name.split(\"_\")[0])\n",
    "    dict_train[\"rating\"].append(file_name.split(\"_\")[1].split(\".\")[0])\n",
    "    dict_train[\"review\"].append(temp_string.decode(\"latin1\",errors=\"ignore\"))\n",
    "    "
   ]
  },
  {
   "cell_type": "code",
   "execution_count": 9,
   "metadata": {},
   "outputs": [],
   "source": [
    "df_train = pd.DataFrame(dict_train)\n",
    "df_test  = pd.DataFrame(dict_test)"
   ]
  },
  {
   "cell_type": "code",
   "execution_count": 10,
   "metadata": {},
   "outputs": [
    {
     "data": {
      "text/plain": [
       "(25000, 3)"
      ]
     },
     "execution_count": 10,
     "metadata": {},
     "output_type": "execute_result"
    }
   ],
   "source": [
    "df_train.shape"
   ]
  },
  {
   "cell_type": "code",
   "execution_count": 11,
   "metadata": {},
   "outputs": [
    {
     "data": {
      "text/plain": [
       "(25000, 3)"
      ]
     },
     "execution_count": 11,
     "metadata": {},
     "output_type": "execute_result"
    }
   ],
   "source": [
    "df_test.shape"
   ]
  },
  {
   "cell_type": "code",
   "execution_count": 12,
   "metadata": {},
   "outputs": [
    {
     "data": {
      "text/plain": [
       "0    Screenwriters Peter Viertel, Joan Harrison, an...\n",
       "1    This was a very funny movie, not Oscar-worthy,...\n",
       "2    I just want to comment to the woman above, tha...\n",
       "3    This is a absolutely masterful stroke of geniu...\n",
       "4    I saw this years ago, and it's entertaining, b...\n",
       "Name: review, dtype: object"
      ]
     },
     "execution_count": 12,
     "metadata": {},
     "output_type": "execute_result"
    }
   ],
   "source": [
    "df_test.review.head()"
   ]
  },
  {
   "cell_type": "markdown",
   "metadata": {},
   "source": [
    "# Processing Text\n",
    "\n",
    "Steeming, tokenize, filtering words that are very short"
   ]
  },
  {
   "cell_type": "code",
   "execution_count": 13,
   "metadata": {},
   "outputs": [],
   "source": [
    "\n",
    "lemmatizer =  WordNetLemmatizer()\n",
    "stemmer =  PorterStemmer()\n",
    "# df_test.review.head().apply(  nltk.word_tokenize).apply(lambda x: [lemmatizer.lemmatize(j) for j in x  if len(j)>4])\n",
    "df_test[\"review_pr\"]  =  df_test.review.astype(unicode).str.replace(\"[^a-zA-Z ]\", \"\").apply(  nltk.word_tokenize).apply(lambda x: [stemmer.stem(j) for j in x  if len(j)>=3]).apply(lambda x : \" \".join(x))\n",
    "df_train[\"review_pr\"] = df_train.review.astype(unicode).str.replace(\"[^a-zA-Z ]\", \"\").apply(  nltk.word_tokenize).apply(lambda x: [stemmer.stem(j) for j in x  if len(j)>=3]).apply(lambda x : \" \".join(x))\n",
    "\n"
   ]
  },
  {
   "cell_type": "code",
   "execution_count": 14,
   "metadata": {},
   "outputs": [
    {
     "data": {
      "text/plain": [
       "0    screenwrit peter viertel joan harrison and all...\n",
       "1    thi wa veri funni movi not oscarworthi but def...\n",
       "2    just want comment the woman abov that the movi...\n",
       "3    thi absolut master stroke geniu paul thoma and...\n",
       "4    saw thi year ago and it entertain but not prof...\n",
       "Name: review_pr, dtype: object"
      ]
     },
     "execution_count": 14,
     "metadata": {},
     "output_type": "execute_result"
    }
   ],
   "source": [
    "df_test.review_pr.head()"
   ]
  },
  {
   "cell_type": "markdown",
   "metadata": {},
   "source": [
    "# Bag of Words\n"
   ]
  },
  {
   "cell_type": "code",
   "execution_count": 35,
   "metadata": {},
   "outputs": [],
   "source": [
    "from sklearn.feature_extraction.text import CountVectorizer\n",
    "vectorizer = CountVectorizer(min_df=400,max_df=10000, ngram_range=(1,2), stop_words=\"english\")\n",
    "X_train =  vectorizer.fit_transform(df_train.review_pr)\n",
    "\n"
   ]
  },
  {
   "cell_type": "code",
   "execution_count": 45,
   "metadata": {},
   "outputs": [
    {
     "data": {
      "text/plain": [
       "(25000, 1077)"
      ]
     },
     "execution_count": 45,
     "metadata": {},
     "output_type": "execute_result"
    }
   ],
   "source": [
    "y_train = np.where(df_train.rating.astype(int)<=5,0,1)\n",
    "X_train.shape\n"
   ]
  },
  {
   "cell_type": "markdown",
   "metadata": {},
   "source": [
    "# Training model ()"
   ]
  },
  {
   "cell_type": "code",
   "execution_count": 50,
   "metadata": {},
   "outputs": [],
   "source": [
    "from sklearn.model_selection import train_test_split\n",
    "\n",
    "\n",
    "X_train_train , X_train_test, y_train_train, y_train_test= train_test_split(X_train, y_train )"
   ]
  },
  {
   "cell_type": "code",
   "execution_count": 55,
   "metadata": {},
   "outputs": [
    {
     "data": {
      "text/plain": [
       "((18750, 1077), (6250, 1077), (18750,), (6250,))"
      ]
     },
     "execution_count": 55,
     "metadata": {},
     "output_type": "execute_result"
    }
   ],
   "source": [
    "X_train_train.shape , X_train_test.shape, y_train_train.shape, y_train_test.shape"
   ]
  },
  {
   "cell_type": "code",
   "execution_count": 57,
   "metadata": {},
   "outputs": [
    {
     "data": {
      "text/plain": [
       "GridSearchCV(cv=4, error_score='raise-deprecating',\n",
       "       estimator=RandomForestClassifier(bootstrap=True, class_weight=None, criterion='gini',\n",
       "            max_depth=None, max_features='auto', max_leaf_nodes=None,\n",
       "            min_impurity_decrease=0.0, min_impurity_split=None,\n",
       "            min_samples_leaf=1, min_samples_split=2,\n",
       "            min_weight_fraction_leaf=0.0, n_estimators='warn', n_jobs=None,\n",
       "            oob_score=False, random_state=None, verbose=0,\n",
       "            warm_start=False),\n",
       "       fit_params=None, iid='warn', n_jobs=None,\n",
       "       param_grid={'n_estimators': [50], 'max_features': [0.1]},\n",
       "       pre_dispatch='2*n_jobs', refit=True, return_train_score='warn',\n",
       "       scoring='accuracy', verbose=0)"
      ]
     },
     "execution_count": 57,
     "metadata": {},
     "output_type": "execute_result"
    }
   ],
   "source": [
    "from sklearn.ensemble import RandomForestClassifier\n",
    "from sklearn.model_selection import GridSearchCV\n",
    "\n",
    "rf = RandomForestClassifier()\n",
    "parameters = {\"n_estimators\":[50,100], \"max_features\":[0.1,0.2, 0.5]}\n",
    "parameters = {\"n_estimators\":[50], \"max_features\":[0.1]}\n",
    "\n",
    "\n",
    "\n",
    "rf_cv = GridSearchCV(rf, cv=4, param_grid=parameters,  scoring=\"accuracy\")\n",
    "\n",
    "rf_cv.fit(X_train_train, y_train_train)"
   ]
  },
  {
   "cell_type": "markdown",
   "metadata": {},
   "source": [
    "# Train Test Score"
   ]
  },
  {
   "cell_type": "code",
   "execution_count": 65,
   "metadata": {},
   "outputs": [
    {
     "data": {
      "text/plain": [
       "0.8"
      ]
     },
     "execution_count": 65,
     "metadata": {},
     "output_type": "execute_result"
    }
   ],
   "source": [
    "from sklearn.metrics import accuracy_score\n",
    "\n",
    "\n",
    "accuracy_score( y_train_test,   rf_cv.predict(X_train_test))"
   ]
  },
  {
   "cell_type": "markdown",
   "metadata": {},
   "source": [
    "# Feature Importance (first 30)"
   ]
  },
  {
   "cell_type": "code",
   "execution_count": 86,
   "metadata": {},
   "outputs": [
    {
     "data": {
      "text/plain": [
       "''"
      ]
     },
     "execution_count": 86,
     "metadata": {},
     "output_type": "execute_result"
    },
    {
     "data": {
      "image/png": "[encoded data removed]",
      "text/plain": [
       "<Figure size 864x360 with 1 Axes>"
      ]
     },
     "metadata": {
      "needs_background": "light"
     },
     "output_type": "display_data"
    }
   ],
   "source": [
    "features =   pd.Series(rf_cv.best_estimator_.feature_importances_, index= vectorizer.get_feature_names()).sort_values(ascending=False)\n",
    "\n",
    "import matplotlib.pyplot as plt\n",
    "%matplotlib inline\n",
    "plt.figure(figsize=(12, 5))\n",
    "plt.bar(features.index[0:30],  features[0:30])\n",
    "plt.xticks(rotation=75)\n",
    "plt.xticks(size=16)\n",
    "\n",
    "plt.title(\"Stems more important\", size=20)\n",
    ";"
   ]
  },
  {
   "cell_type": "code",
   "execution_count": null,
   "metadata": {},
   "outputs": [],
   "source": []
  }
 ],
 "metadata": {
  "kernelspec": {
   "display_name": "Python 2",
   "language": "python",
   "name": "python2"
  },
  "language_info": {
   "codemirror_mode": {
    "name": "ipython",
    "version": 2
   },
   "file_extension": ".py",
   "mimetype": "text/x-python",
   "name": "python",
   "nbconvert_exporter": "python",
   "pygments_lexer": "ipython2",
   "version": "2.7.15"
  }
 },
 "nbformat": 4,
 "nbformat_minor": 2
}
